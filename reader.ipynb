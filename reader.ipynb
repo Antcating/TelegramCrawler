{
 "cells": [
  {
   "cell_type": "code",
   "execution_count": 1,
   "metadata": {},
   "outputs": [],
   "source": [
    "import pickle\n",
    "import pandas as pd\n",
    "import numpy as np\n",
    "import plotly.express as px\n",
    "import networkx as nx\n",
    "import plotly.graph_objects as go\n",
    "import matplotlib.pyplot as plt\n",
    "import seaborn as sns\n",
    "import os\n",
    "\n",
    "from bokeh.io import output_notebook, show, save\n",
    "from bokeh.models import Range1d, Circle, ColumnDataSource, MultiLine, LabelSet\n",
    "from bokeh.plotting import figure\n",
    "from bokeh.plotting import from_networkx"
   ]
  },
  {
   "cell_type": "code",
   "execution_count": 26,
   "metadata": {},
   "outputs": [],
   "source": [
    "global_connections_dict = {x:[] for x in ['before', 'after']}\n",
    "nodes = dict()\n",
    "for filename in os.listdir('output/'): \n",
    "    if 'connection_strength' in str(filename):\n",
    "        with open('output/' + filename, 'rb') as file:\n",
    "            connections = pickle.load(file)\n",
    "        try: \n",
    "            connections_dict = list(connections.values())[0]\n",
    "            \n",
    "            [global_connections_dict['before'].append(edge) for edge in list(connections_dict['before'].values())]\n",
    "            [global_connections_dict['after'].append(edge) for edge in list(connections_dict['after'].values())]\n",
    "            \n",
    "        except:\n",
    "            pass\n",
    "    elif 'nodes' in str(filename):\n",
    "        with open('output/' + filename, 'rb') as file:\n",
    "            channel = pickle.load(file)\n",
    "            try:\n",
    "                nodes.update(channel)\n",
    "            except:\n",
    "                pass"
   ]
  },
  {
   "cell_type": "code",
   "execution_count": 27,
   "metadata": {},
   "outputs": [],
   "source": [
    "G = nx.Graph()\n",
    "edge_list = global_connections_dict['after']\n",
    "for edge in edge_list:\n",
    "    if edge['strength'] > 1:\n",
    "        G.add_edge(edge['origin_id'], \n",
    "                edge['destination_id'], \n",
    "                origin_title=edge['origin_title'],\n",
    "                destination_title=edge['destination_title'],\n",
    "                strength=edge['strength'],\n",
    "                type=edge['type']\n",
    "        )\n",
    "\n",
    "node_labels = list(G.nodes())\n",
    "titles = dict()\n",
    "usernames = dict()\n",
    "for node in node_labels:\n",
    "    titles[node] = nodes[node].title\n",
    "    usernames[node] = nodes[node].username\n",
    "nx.set_node_attributes(G, titles, 'label')\n",
    "nx.set_node_attributes(G, titles, 'username')\n",
    "\n",
    "node_color = {}\n",
    "node_radius = {}\n",
    "edge_width = {}\n",
    "FORWARD_COLOR, MENTION_COLOR = \"darkgrey\", \"red\"\n",
    "for start_node, end_node, edge_attr in G.edges(data=True):\n",
    "    node_color[end_node] = FORWARD_COLOR if edge_attr[\"type\"] == 0 else MENTION_COLOR\n",
    "    edge_width[(start_node, end_node)] = 2/(1+np.exp(-2*(edge_attr[\"strength\"]-2)))\n",
    "    node_radius[end_node] = 5/(1+np.exp(-2*(edge_attr[\"strength\"]-2)))\n",
    "\n",
    "nx.set_node_attributes(G, node_color, 'node_color')\n",
    "nx.set_node_attributes(G, node_radius, 'node_radius')\n",
    "nx.set_edge_attributes(G, edge_width, 'edge_width')\n"
   ]
  },
  {
   "cell_type": "code",
   "execution_count": 28,
   "metadata": {},
   "outputs": [],
   "source": [
    "title = 'Загальний граф'\n",
    "plot = figure(\n",
    "              tools=\"pan,wheel_zoom,save,reset\", active_scroll='wheel_zoom',\n",
    "              x_range=Range1d(-10.1, 10.1), y_range=Range1d(-10.1, 10.1), title=title\n",
    ")\n",
    "\n",
    "plot.sizing_mode = 'scale_width'\n",
    "plot.grid.grid_line_color = None\n",
    "\n",
    "network_graph = from_networkx(G, nx.spring_layout, scale=10, center=(0, 0), weight='strength')\n",
    "network_graph.node_renderer.glyph = Circle(size='node_radius', fill_color='node_color')\n",
    "network_graph.edge_renderer.glyph = MultiLine(line_color=\"darkgrey\", line_alpha=1, line_width='edge_width')\n",
    "\n",
    "x, y = zip(*network_graph.layout_provider.graph_layout.values())\n",
    "node_labels = nx.get_node_attributes(G, 'label')\n",
    "source = ColumnDataSource({'x': x, 'y': y, 'name': [node_labels[i] for i in network_graph.layout_provider.graph_layout]})\n",
    "titles = LabelSet(x='x', y='y', text='name', source=source, background_fill_color='white', text_font_size='8px', background_fill_alpha=.7)\n",
    "\n",
    "\n",
    "plot.renderers.append(network_graph)\n",
    "plot.renderers.append(titles)\n",
    "\n",
    "\n",
    "show(plot)"
   ]
  },
  {
   "cell_type": "code",
   "execution_count": null,
   "metadata": {},
   "outputs": [],
   "source": []
  }
 ],
 "metadata": {
  "kernelspec": {
   "display_name": "Python 3",
   "language": "python",
   "name": "python3"
  },
  "language_info": {
   "codemirror_mode": {
    "name": "ipython",
    "version": 3
   },
   "file_extension": ".py",
   "mimetype": "text/x-python",
   "name": "python",
   "nbconvert_exporter": "python",
   "pygments_lexer": "ipython3",
   "version": "3.10.8"
  },
  "orig_nbformat": 4
 },
 "nbformat": 4,
 "nbformat_minor": 2
}
